{
  "cells": [
    {
      "cell_type": "code",
      "execution_count": null,
      "metadata": {
        "id": "wL2I8drErkiO"
      },
      "outputs": [],
      "source": [
        "#%qtconsole"
      ]
    },
    {
      "cell_type": "markdown",
      "metadata": {
        "id": "pJukwi3JrkiJ"
      },
      "source": [
        "# Python \n",
        "* Python es un lenguaje interpretado que  utiliza espacios o tabulaciones para estructurar el código.\n",
        " \n",
        "* Los objetos son la abstracción de Python para los datos. Todos los datos en un programa de Python están representados por objetos o por relaciones entre objetos.\n",
        "\n",
        "* Cuando asignamos una variable en python estamos creando una referencia al objeto.\n",
        "\n",
        "* Python es \"strongly-typed language\", no podemos hacer conversiones de tipos implicitas y no se pueden realizar operaciones entre objetos de diferente tipo.\n",
        "\n",
        "* palabras reservadas: : and, as, assert, break, class, continue, def, del, elif, else, except, exec, finally, for, from, global, \n",
        "if, is, in, import, lambda, not, or, pass, print, try, or, raise, return, while, with, yield."
      ]
    },
    {
      "cell_type": "markdown",
      "source": [
        "## Immutabilidad"
      ],
      "metadata": {
        "id": "D0042_MZ-qNf"
      }
    },
    {
      "cell_type": "markdown",
      "source": [
        "Un objeto en Python es mutable cuando cualquier elemento que contiene ese objeto puede ser modificado en cualquier momento."
      ],
      "metadata": {
        "id": "Xa75T6O4-47-"
      }
    },
    {
      "cell_type": "markdown",
      "source": [
        "*  **Objetos immutables** en Python: tuplas, strings, booleans, integers, floats\n",
        "*  **Objetos mutables** en Python: listas, dicts, numpy arrays\n",
        "\n"
      ],
      "metadata": {
        "id": "2ubRLlMK2pH-"
      }
    },
    {
      "cell_type": "markdown",
      "source": [
        "## Tipos de datos \n",
        "\n",
        "<table>\n",
        "  <th> escalares\n",
        "  </th>\n",
        "  <tr>\n",
        "    <td>None</td>\n",
        "  </tr>\n",
        "  <tr>\n",
        "    <td>str</td>\n",
        "  </tr>\n",
        "  <tr>\n",
        "    <td>unicode</td>\n",
        "  </tr>\n",
        "  <tr>\n",
        "    <td>float</td>\n",
        "  </tr>\n",
        "  <tr>\n",
        "    <td>bool</td>\n",
        "  </tr>\n",
        "  <tr>\n",
        "    <td>int</td>\n",
        "  </tr>\n",
        "  <tr>\n",
        "    <td>long</td>\n",
        "  </tr>\n",
        "  \n",
        "</table>"
      ],
      "metadata": {
        "id": "yOfemNfb-ADi"
      }
    },
    {
      "cell_type": "markdown",
      "source": [
        "### Numbers"
      ],
      "metadata": {
        "id": "uNibTLW75hSx"
      }
    },
    {
      "cell_type": "code",
      "source": [
        "num = 101"
      ],
      "metadata": {
        "id": "rCwZICzm7jsA"
      },
      "execution_count": 52,
      "outputs": []
    },
    {
      "cell_type": "code",
      "source": [
        "type(num)"
      ],
      "metadata": {
        "colab": {
          "base_uri": "https://localhost:8080/"
        },
        "id": "vdFkggss7kMH",
        "outputId": "a645a397-ca52-4de9-c617-749a390d44f7"
      },
      "execution_count": 53,
      "outputs": [
        {
          "output_type": "execute_result",
          "data": {
            "text/plain": [
              "int"
            ]
          },
          "metadata": {},
          "execution_count": 53
        }
      ]
    },
    {
      "cell_type": "code",
      "source": [
        "print(\"Division\",9/3)\n",
        "print(\"Integer division\",9//3)\n",
        "print(\"Multiplicacion\",3*2)\n",
        "print(\"Suma\",1+1)\n",
        "print(\"Resta\",2-1)\n",
        "print(\"Exponents\",2 ** 4)\n",
        "print(\"Modulus operator\",5 % 3)"
      ],
      "metadata": {
        "colab": {
          "base_uri": "https://localhost:8080/"
        },
        "id": "n0luwTUI76oY",
        "outputId": "d61e9e53-cf18-4319-e2f9-d7a877125f53"
      },
      "execution_count": 58,
      "outputs": [
        {
          "output_type": "stream",
          "name": "stdout",
          "text": [
            "Division 3.0\n",
            "Integer division 3\n",
            "Multiplicacion 6\n",
            "Suma 2\n",
            "Resta 1\n",
            "Exponents 16\n",
            "Modulus operator 2\n"
          ]
        }
      ]
    },
    {
      "cell_type": "markdown",
      "metadata": {
        "id": "WuazcUHfrkiN"
      },
      "source": [
        "### Strings"
      ]
    },
    {
      "cell_type": "code",
      "source": [
        "s = \"hello world\""
      ],
      "metadata": {
        "id": "zKvLkB7E5gtN"
      },
      "execution_count": 35,
      "outputs": []
    },
    {
      "cell_type": "code",
      "source": [
        "type(s)"
      ],
      "metadata": {
        "colab": {
          "base_uri": "https://localhost:8080/"
        },
        "id": "9APFk8vj5poR",
        "outputId": "42b56226-9ab2-4e74-f237-67c21a895cca"
      },
      "execution_count": 36,
      "outputs": [
        {
          "output_type": "execute_result",
          "data": {
            "text/plain": [
              "str"
            ]
          },
          "metadata": {},
          "execution_count": 36
        }
      ]
    },
    {
      "cell_type": "markdown",
      "source": [
        "\n",
        "<table>\n",
        "\n",
        "  <tr>\n",
        "    <td>s.capitalize</td>\n",
        "    <td>s.format</td>\n",
        "    <td>s.issuper</td>\n",
        "    <td>s.rindex</td>\n",
        "    <td>s.strip</td>\n",
        "  </tr>\n",
        "  <tr>\n",
        "    <td>s.center</td>\n",
        "    <td>s.index</td>\n",
        "    <td>s.join</td>\n",
        "    <td>s.rjust</td>\n",
        "    <td>s.swapcase</td>\n",
        "  </tr>\n",
        "  <tr>\n",
        "    <td>s.count</td>\n",
        "    <td>s.isalnum</td>\n",
        "    <td>s.ljust</td>\n",
        "    <td>s.rpartition</td>\n",
        "    <td>s.title</td>\n",
        "  </tr>\n",
        "  <tr>\n",
        "    <td>s.decode</td>\n",
        "    <td>s.isalpha/td>\n",
        "    <td>s.lower</td>\n",
        "    <td>s.rsplit</td>\n",
        "    <td>s.translate</td>\n",
        "  </tr>\n",
        "  <tr>\n",
        "    <td>s.encode</td>\n",
        "    <td>s.isdigit/td>\n",
        "    <td>s.lstrip</td>\n",
        "    <td>s.rstrip</td>\n",
        "    <td>s.upper</td>\n",
        "  </tr>\n",
        "  <tr>\n",
        "    <td>s.endswith</td>\n",
        "    <td>s.islower/td>\n",
        "    <td>s.partition</td>\n",
        "    <td>s.split</td>\n",
        "    <td>s.zfill</td>\n",
        "  </tr>\n",
        "  <tr>\n",
        "    <td>s.expandtabs</td>\n",
        "    <td>s.isspace/td>\n",
        "    <td>s.replace</td>\n",
        "    <td>s.splitlines</td>\n",
        "    <td>s.find</td>\n",
        "  </tr>\n",
        "   <tr>\n",
        "    <td>s.istitle</td>\n",
        "    <td>s.rfind/td>\n",
        "    <td>s.startwith</td>\n",
        "  </tr>\n",
        "</table>\n"
      ],
      "metadata": {
        "id": "qg-b60at1RWU"
      }
    },
    {
      "cell_type": "markdown",
      "source": [
        "**Ejemplos**"
      ],
      "metadata": {
        "id": "Tx4rnVWy5uTQ"
      }
    },
    {
      "cell_type": "code",
      "source": [
        "s.capitalize()"
      ],
      "metadata": {
        "colab": {
          "base_uri": "https://localhost:8080/",
          "height": 35
        },
        "id": "TxFUSBEf1QTS",
        "outputId": "63534f87-a1d3-4af2-a407-6df343a46580"
      },
      "execution_count": 37,
      "outputs": [
        {
          "output_type": "execute_result",
          "data": {
            "text/plain": [
              "'Hello world'"
            ],
            "application/vnd.google.colaboratory.intrinsic+json": {
              "type": "string"
            }
          },
          "metadata": {},
          "execution_count": 37
        }
      ]
    },
    {
      "cell_type": "code",
      "source": [
        "print(s.istitle())\n",
        "print(s.isdigit())\n",
        "print(s.isalpha())\n",
        "print(s.islower())\n",
        "print(s.isupper())\n",
        "print(s.isspace())\n",
        "print(s.isspace())"
      ],
      "metadata": {
        "colab": {
          "base_uri": "https://localhost:8080/"
        },
        "id": "Od4kUAEC5zKl",
        "outputId": "d4194704-6af8-4a18-cb5d-ad0dd85dafdf"
      },
      "execution_count": 41,
      "outputs": [
        {
          "output_type": "stream",
          "name": "stdout",
          "text": [
            "False\n",
            "False\n",
            "False\n",
            "True\n",
            "False\n",
            "False\n",
            "False\n"
          ]
        }
      ]
    },
    {
      "cell_type": "code",
      "source": [
        "s.split(\" \")"
      ],
      "metadata": {
        "colab": {
          "base_uri": "https://localhost:8080/"
        },
        "id": "HBzBio-t6Opl",
        "outputId": "f30db2cd-3d6d-4b99-d235-270d2aebf516"
      },
      "execution_count": 42,
      "outputs": [
        {
          "output_type": "execute_result",
          "data": {
            "text/plain": [
              "['hello', 'world']"
            ]
          },
          "metadata": {},
          "execution_count": 42
        }
      ]
    },
    {
      "cell_type": "code",
      "source": [
        "s.capitalize()"
      ],
      "metadata": {
        "colab": {
          "base_uri": "https://localhost:8080/",
          "height": 35
        },
        "id": "ymsaVKfS6UuI",
        "outputId": "4577d32a-d835-4818-e21f-0dc71caa2d4c"
      },
      "execution_count": 45,
      "outputs": [
        {
          "output_type": "execute_result",
          "data": {
            "text/plain": [
              "'Hello world'"
            ],
            "application/vnd.google.colaboratory.intrinsic+json": {
              "type": "string"
            }
          },
          "metadata": {},
          "execution_count": 45
        }
      ]
    },
    {
      "cell_type": "code",
      "source": [
        "s.upper()"
      ],
      "metadata": {
        "colab": {
          "base_uri": "https://localhost:8080/",
          "height": 35
        },
        "id": "3Bnh3d1v6gSz",
        "outputId": "34840063-b65c-49ac-ee77-b020da640474"
      },
      "execution_count": 46,
      "outputs": [
        {
          "output_type": "execute_result",
          "data": {
            "text/plain": [
              "'HELLO WORLD'"
            ],
            "application/vnd.google.colaboratory.intrinsic+json": {
              "type": "string"
            }
          },
          "metadata": {},
          "execution_count": 46
        }
      ]
    },
    {
      "cell_type": "code",
      "source": [
        "s.lower()"
      ],
      "metadata": {
        "colab": {
          "base_uri": "https://localhost:8080/",
          "height": 35
        },
        "id": "lgkOzYjb6lH_",
        "outputId": "311bd0b7-97ac-44e3-a775-5918e33dcb03"
      },
      "execution_count": 47,
      "outputs": [
        {
          "output_type": "execute_result",
          "data": {
            "text/plain": [
              "'hello world'"
            ],
            "application/vnd.google.colaboratory.intrinsic+json": {
              "type": "string"
            }
          },
          "metadata": {},
          "execution_count": 47
        }
      ]
    },
    {
      "cell_type": "code",
      "source": [
        "s.startswith(\"h\")"
      ],
      "metadata": {
        "colab": {
          "base_uri": "https://localhost:8080/"
        },
        "id": "EBRV9IK86rtW",
        "outputId": "933d02ef-9843-4969-fe41-e5090c7a4bfa"
      },
      "execution_count": 48,
      "outputs": [
        {
          "output_type": "execute_result",
          "data": {
            "text/plain": [
              "True"
            ]
          },
          "metadata": {},
          "execution_count": 48
        }
      ]
    },
    {
      "cell_type": "code",
      "source": [
        "s.count(\"l\")"
      ],
      "metadata": {
        "colab": {
          "base_uri": "https://localhost:8080/"
        },
        "id": "k4RlVS_s6zxg",
        "outputId": "39a338e9-bba1-456d-cb1a-3476ed620f48"
      },
      "execution_count": 51,
      "outputs": [
        {
          "output_type": "execute_result",
          "data": {
            "text/plain": [
              "3"
            ]
          },
          "metadata": {},
          "execution_count": 51
        }
      ]
    },
    {
      "cell_type": "markdown",
      "metadata": {
        "id": "zOsMKa4FrkiO"
      },
      "source": [
        "### Fechas y hora\n",
        "https://docs.python.org/3/library/datetime.html"
      ]
    },
    {
      "cell_type": "code",
      "execution_count": 2,
      "metadata": {
        "id": "p6VPTSdWrkiO"
      },
      "outputs": [],
      "source": [
        "from datetime import datetime, date,time"
      ]
    },
    {
      "cell_type": "code",
      "execution_count": 4,
      "metadata": {
        "id": "5PPUQZL0rkiP"
      },
      "outputs": [],
      "source": [
        "dt = datetime(2023,1,3,18,0,0)"
      ]
    },
    {
      "cell_type": "code",
      "execution_count": 5,
      "metadata": {
        "colab": {
          "base_uri": "https://localhost:8080/"
        },
        "id": "qKJSF6qQrkiP",
        "outputId": "f5fe767c-e0cf-45c4-ed8f-b1d0ea7ece99"
      },
      "outputs": [
        {
          "output_type": "execute_result",
          "data": {
            "text/plain": [
              "datetime.datetime"
            ]
          },
          "metadata": {},
          "execution_count": 5
        }
      ],
      "source": [
        "type(dt)"
      ]
    },
    {
      "cell_type": "code",
      "source": [
        "dt"
      ],
      "metadata": {
        "colab": {
          "base_uri": "https://localhost:8080/"
        },
        "id": "9GjQFvQZsJYi",
        "outputId": "67f1fa76-9951-4a4b-ed9c-8c3fad9537b9"
      },
      "execution_count": 6,
      "outputs": [
        {
          "output_type": "execute_result",
          "data": {
            "text/plain": [
              "datetime.datetime(2023, 1, 3, 18, 0)"
            ]
          },
          "metadata": {},
          "execution_count": 6
        }
      ]
    },
    {
      "cell_type": "markdown",
      "source": [
        "\n",
        "**Métodos**\n",
        "\n",
        "<table>\n",
        "\n",
        "  <tr>\n",
        "    <td>dt.astimezone</td>\n",
        "    <td>dt.max</td>\n",
        "    <td>dt.timetuple</td>\n",
        "    <td>dt.combine</td>\n",
        "    <td>dt.microsecond</td>\n",
        "    <td>dt.timetz</td>\n",
        "  </tr>\n",
        "  <tr>\n",
        "    <td>dt.ctime</td>\n",
        "    <td>dt.min</td>\n",
        "    <td>dt.today</td>\n",
        "    <td>dt.date</td>\n",
        "    <td>dt.minute</td>\n",
        "    <td>dt.toordinal</td>\n",
        "  </tr>\n",
        "  <tr>\n",
        "    <td>dt.day</td>\n",
        "    <td>dt.month</td>\n",
        "    <td>dt.tzinfo</td>\n",
        "    <td>dt.dst</td>\n",
        "    <td>dt.now</td>\n",
        "    <td>dt.tzname</td>\n",
        "  </tr>\n",
        "  <tr>\n",
        "    <td>dt.fold</td>\n",
        "    <td>dt.replace</td>\n",
        "    <td>dt.utcfromtimestamp</td>\n",
        "    <td>dt.fromordinal</td>\n",
        "    <td>dt.resolution</td>\n",
        "    <td>dt.utcnow</td>\n",
        "  </tr>\n",
        "  <tr>\n",
        "    <td>dt.fromtimestamp</td>\n",
        "    <td>dt.second</td>\n",
        "    <td>dt.utcoffset</td>\n",
        "    <td>dt.hour</td>\n",
        "    <td>dt.strftime</td>\n",
        "    <td>dt.utctimetuple</td>\n",
        "  </tr>\n",
        "  <tr>\n",
        "    <td>dt.isocalendar</td>\n",
        "    <td>dt.strptime</td>\n",
        "    <td>dt.weekday</td>\n",
        "    <td>dt.isoformat</td>\n",
        "    <td>dt.time</td>\n",
        "    <td>dt.year</td>\n",
        "  </tr>\n",
        "  <tr>\n",
        "    <td>dt.isoweekday</td>\n",
        "    <td>dt.timestamp</td>\n",
        "  </tr>\n",
        "</table>\n",
        "\n"
      ],
      "metadata": {
        "id": "PIRX9Ic-uHDC"
      }
    },
    {
      "cell_type": "markdown",
      "source": [
        "**Ejemplos**"
      ],
      "metadata": {
        "id": "FO7O_TSAywAd"
      }
    },
    {
      "cell_type": "code",
      "source": [
        "#Return a datetime object with new tzinfo attribute tz, adjusting the date and time data so the result is the same UTC time\n",
        "dt.astimezone()"
      ],
      "metadata": {
        "colab": {
          "base_uri": "https://localhost:8080/"
        },
        "id": "KC70CYsIuEiF",
        "outputId": "9ed7e9a7-493e-4d18-c70e-d721c0df6b15"
      },
      "execution_count": 19,
      "outputs": [
        {
          "output_type": "execute_result",
          "data": {
            "text/plain": [
              "datetime.datetime(2023, 1, 3, 18, 0, tzinfo=datetime.timezone(datetime.timedelta(0), 'UTC'))"
            ]
          },
          "metadata": {},
          "execution_count": 19
        }
      ]
    },
    {
      "cell_type": "code",
      "source": [
        "# Return a new datetime object whose date components are equal to the given date object’s, and whose time components are equal to the given time object’s.\n",
        "datetime.combine(dt.date(), dt.time(), dt.tzinfo)"
      ],
      "metadata": {
        "colab": {
          "base_uri": "https://localhost:8080/"
        },
        "id": "9a70Oxneuico",
        "outputId": "0eb916ac-906a-4ffb-a82a-d46c943f99d0"
      },
      "execution_count": 21,
      "outputs": [
        {
          "output_type": "execute_result",
          "data": {
            "text/plain": [
              "datetime.datetime(2023, 1, 3, 18, 0)"
            ]
          },
          "metadata": {},
          "execution_count": 21
        }
      ]
    },
    {
      "cell_type": "code",
      "source": [
        "# Return a string representing the date\n",
        "dt.ctime()"
      ],
      "metadata": {
        "colab": {
          "base_uri": "https://localhost:8080/",
          "height": 35
        },
        "id": "nGnlOPWTvF-e",
        "outputId": "3175c148-2f6f-4e78-ac20-47258b159195"
      },
      "execution_count": 22,
      "outputs": [
        {
          "output_type": "execute_result",
          "data": {
            "text/plain": [
              "'Tue Jan  3 18:00:00 2023'"
            ],
            "application/vnd.google.colaboratory.intrinsic+json": {
              "type": "string"
            }
          },
          "metadata": {},
          "execution_count": 22
        }
      ]
    },
    {
      "cell_type": "code",
      "source": [
        "print(dt.date())\n",
        "print(dt.month)\n",
        "print(dt.day)\n",
        "print(dt.year)\n",
        "print(dt.hour)\n",
        "print(dt.minute)\n",
        "print(dt.second)"
      ],
      "metadata": {
        "colab": {
          "base_uri": "https://localhost:8080/"
        },
        "id": "aYIJ4a84vt8q",
        "outputId": "4af93a9f-53d2-47f9-8f37-3622af08e027"
      },
      "execution_count": 26,
      "outputs": [
        {
          "output_type": "stream",
          "name": "stdout",
          "text": [
            "2023-01-03\n",
            "1\n",
            "3\n",
            "2023\n",
            "18\n",
            "0\n",
            "0\n"
          ]
        }
      ]
    },
    {
      "cell_type": "code",
      "source": [
        "#Return a string representing the date in ISO 8601 format, YYYY-MM-DD\n",
        "dt.isoformat()"
      ],
      "metadata": {
        "id": "LF1mxTazv-Q5"
      },
      "execution_count": null,
      "outputs": []
    },
    {
      "cell_type": "code",
      "source": [
        "#Return a datetime with the same attributes, except for those attributes given new values\n",
        "dt.replace(month=5)"
      ],
      "metadata": {
        "colab": {
          "base_uri": "https://localhost:8080/"
        },
        "id": "LicE0Nw4zMVA",
        "outputId": "d3d6a28b-b7e5-41da-fdbe-78cd07092745"
      },
      "execution_count": 27,
      "outputs": [
        {
          "output_type": "execute_result",
          "data": {
            "text/plain": [
              "datetime.datetime(2023, 5, 3, 18, 0)"
            ]
          },
          "metadata": {},
          "execution_count": 27
        }
      ]
    },
    {
      "cell_type": "code",
      "source": [
        "#Convert object to a string according to a given format\n",
        "#strftime(format)\n",
        "print(dt.strftime(\"%Y-%m-%d %H:%M:%S\"))\n",
        "print(dt.strftime(\"%a %d/%m/%y\"))\n",
        "print(dt.strftime(\"%x %X\"))"
      ],
      "metadata": {
        "colab": {
          "base_uri": "https://localhost:8080/"
        },
        "id": "gI7UtTfVsMUV",
        "outputId": "9b78e5d5-1d1f-4d42-f60b-dde6dd27a0e5"
      },
      "execution_count": 18,
      "outputs": [
        {
          "output_type": "stream",
          "name": "stdout",
          "text": [
            "2023-01-03 18:00:00\n",
            "Tue 03/01/23\n",
            "01/03/23 18:00:00\n"
          ]
        }
      ]
    },
    {
      "cell_type": "code",
      "source": [
        "#Parse a string into a datetime object given a corresponding format\n",
        "#strptime(date_string, format)\n",
        "datetime.strptime('Feb 28', '%b %d') #%b: Month as locale’s abbreviated name. #%d Day of the month as a zero-padded decimal number."
      ],
      "metadata": {
        "colab": {
          "base_uri": "https://localhost:8080/"
        },
        "id": "NEeA28WmzurT",
        "outputId": "6b2869df-e1b9-46ee-af0a-6b00ccbe49e6"
      },
      "execution_count": 33,
      "outputs": [
        {
          "output_type": "execute_result",
          "data": {
            "text/plain": [
              "datetime.datetime(1900, 2, 28, 0, 0)"
            ]
          },
          "metadata": {},
          "execution_count": 33
        }
      ]
    },
    {
      "cell_type": "markdown",
      "source": [
        "### Listas"
      ],
      "metadata": {
        "id": "rcHw55h2AeTS"
      }
    },
    {
      "cell_type": "code",
      "source": [
        "lista_names = ['mary','paul','anne','charly','david']"
      ],
      "metadata": {
        "id": "R-CNrr6FAgyu"
      },
      "execution_count": 112,
      "outputs": []
    },
    {
      "cell_type": "code",
      "source": [
        "lista_names.append(\"jonh\")"
      ],
      "metadata": {
        "id": "aPw_-MRhFNAw"
      },
      "execution_count": 113,
      "outputs": []
    },
    {
      "cell_type": "code",
      "source": [
        "# Add an element in a position\n",
        "lista_names.insert(0,'Pilar')\n",
        "lista_names"
      ],
      "metadata": {
        "colab": {
          "base_uri": "https://localhost:8080/"
        },
        "id": "8UGn8g5cFZUs",
        "outputId": "b6e67b2c-6a19-463f-ee02-192a53e14bac"
      },
      "execution_count": 114,
      "outputs": [
        {
          "output_type": "execute_result",
          "data": {
            "text/plain": [
              "['Pilar', 'mary', 'paul', 'anne', 'charly', 'david', 'jonh']"
            ]
          },
          "metadata": {},
          "execution_count": 114
        }
      ]
    },
    {
      "cell_type": "code",
      "source": [
        "# Remove an element from a list\n",
        "lista_names.pop(0)"
      ],
      "metadata": {
        "colab": {
          "base_uri": "https://localhost:8080/",
          "height": 35
        },
        "id": "09VF8qwAFjLG",
        "outputId": "037906d6-4f3d-402d-de1b-335ecbad4b97"
      },
      "execution_count": 115,
      "outputs": [
        {
          "output_type": "execute_result",
          "data": {
            "text/plain": [
              "'Pilar'"
            ],
            "application/vnd.google.colaboratory.intrinsic+json": {
              "type": "string"
            }
          },
          "metadata": {},
          "execution_count": 115
        }
      ]
    },
    {
      "cell_type": "code",
      "source": [
        "lista_names.extend([\"pilar\",\"carlos\",\"luis\",\"susan\"])\n",
        "lista_names"
      ],
      "metadata": {
        "colab": {
          "base_uri": "https://localhost:8080/"
        },
        "id": "uC0zNAx0F2I7",
        "outputId": "44a4f95e-d084-4c56-c12b-4365fd5116bc"
      },
      "execution_count": 116,
      "outputs": [
        {
          "output_type": "execute_result",
          "data": {
            "text/plain": [
              "['mary',\n",
              " 'paul',\n",
              " 'anne',\n",
              " 'charly',\n",
              " 'david',\n",
              " 'jonh',\n",
              " 'pilar',\n",
              " 'carlos',\n",
              " 'luis',\n",
              " 'susan']"
            ]
          },
          "metadata": {},
          "execution_count": 116
        }
      ]
    },
    {
      "cell_type": "code",
      "source": [
        "lista_names.sort()\n",
        "lista_names"
      ],
      "metadata": {
        "colab": {
          "base_uri": "https://localhost:8080/"
        },
        "id": "A_lrBHVyGDM5",
        "outputId": "a2b917e6-cf1c-49ee-92b8-f2fa8116bf2b"
      },
      "execution_count": 117,
      "outputs": [
        {
          "output_type": "execute_result",
          "data": {
            "text/plain": [
              "['anne',\n",
              " 'carlos',\n",
              " 'charly',\n",
              " 'david',\n",
              " 'jonh',\n",
              " 'luis',\n",
              " 'mary',\n",
              " 'paul',\n",
              " 'pilar',\n",
              " 'susan']"
            ]
          },
          "metadata": {},
          "execution_count": 117
        }
      ]
    },
    {
      "cell_type": "code",
      "source": [
        "import bisect\n",
        "# Insert a new element in order to keep the list sorted\n",
        "bisect.insort(lista_names,\"javier\")\n",
        "lista_names"
      ],
      "metadata": {
        "colab": {
          "base_uri": "https://localhost:8080/"
        },
        "id": "b2ouHkRgGX9h",
        "outputId": "f1c126f5-bdde-4881-d4b8-c9c0bb839ff5"
      },
      "execution_count": 118,
      "outputs": [
        {
          "output_type": "execute_result",
          "data": {
            "text/plain": [
              "['anne',\n",
              " 'carlos',\n",
              " 'charly',\n",
              " 'david',\n",
              " 'javier',\n",
              " 'jonh',\n",
              " 'luis',\n",
              " 'mary',\n",
              " 'paul',\n",
              " 'pilar',\n",
              " 'susan']"
            ]
          },
          "metadata": {},
          "execution_count": 118
        }
      ]
    },
    {
      "cell_type": "code",
      "source": [
        "lista_names[1:2] = [\"bea\"]\n",
        "lista_names"
      ],
      "metadata": {
        "colab": {
          "base_uri": "https://localhost:8080/"
        },
        "id": "qp2aKHocG2V2",
        "outputId": "d3d4a0da-56fa-4817-b0fa-dc93810004ea"
      },
      "execution_count": 119,
      "outputs": [
        {
          "output_type": "execute_result",
          "data": {
            "text/plain": [
              "['anne',\n",
              " 'bea',\n",
              " 'charly',\n",
              " 'david',\n",
              " 'javier',\n",
              " 'jonh',\n",
              " 'luis',\n",
              " 'mary',\n",
              " 'paul',\n",
              " 'pilar',\n",
              " 'susan']"
            ]
          },
          "metadata": {},
          "execution_count": 119
        }
      ]
    },
    {
      "cell_type": "code",
      "source": [
        "for value in enumerate(lista_names):\n",
        "  print(value)"
      ],
      "metadata": {
        "colab": {
          "base_uri": "https://localhost:8080/"
        },
        "id": "QUXEJLOWHNIa",
        "outputId": "694b55c2-1822-465a-fb4e-e67eb53647fb"
      },
      "execution_count": 121,
      "outputs": [
        {
          "output_type": "stream",
          "name": "stdout",
          "text": [
            "(0, 'anne')\n",
            "(1, 'bea')\n",
            "(2, 'charly')\n",
            "(3, 'david')\n",
            "(4, 'javier')\n",
            "(5, 'jonh')\n",
            "(6, 'luis')\n",
            "(7, 'mary')\n",
            "(8, 'paul')\n",
            "(9, 'pilar')\n",
            "(10, 'susan')\n"
          ]
        }
      ]
    },
    {
      "cell_type": "code",
      "source": [
        "# unir dos listas en una tupla\n",
        "seq1 = ['invierno', 'primavera','verano','otoño']\n",
        "seq2 = ['1Q', '2Q','3Q','4Q']\n",
        "tup = zip(seq1,seq2)"
      ],
      "metadata": {
        "id": "TyaWJIOXHfAV"
      },
      "execution_count": 125,
      "outputs": []
    },
    {
      "cell_type": "code",
      "source": [
        "for value in tup:\n",
        "  print(value)"
      ],
      "metadata": {
        "colab": {
          "base_uri": "https://localhost:8080/"
        },
        "id": "boorrO84IHIN",
        "outputId": "7034471d-5f87-4900-be1d-69e79cef37a8"
      },
      "execution_count": 126,
      "outputs": [
        {
          "output_type": "stream",
          "name": "stdout",
          "text": [
            "('invierno', '1Q')\n",
            "('primavera', '2Q')\n",
            "('verano', '3Q')\n",
            "('otoño', '4Q')\n"
          ]
        }
      ]
    },
    {
      "cell_type": "markdown",
      "source": [
        "## Conjuntos"
      ],
      "metadata": {
        "id": "eZdDhTcAL-2p"
      }
    },
    {
      "cell_type": "markdown",
      "source": [
        "Los conjuntos son colecciones no ordenadas y sin elementos repetidos."
      ],
      "metadata": {
        "id": "DU-uRW_GNe-o"
      }
    },
    {
      "cell_type": "code",
      "source": [
        "colors = set({'red','yellow','green','blue'})\n",
        "# colors = {'red','yellow','green','blue'} # otra forma\n",
        "colors"
      ],
      "metadata": {
        "colab": {
          "base_uri": "https://localhost:8080/"
        },
        "id": "ZmH4OneHL-bL",
        "outputId": "36ce2a74-5716-410a-b1a9-6f2020e6354b"
      },
      "execution_count": 136,
      "outputs": [
        {
          "output_type": "execute_result",
          "data": {
            "text/plain": [
              "{'blue', 'green', 'red', 'yellow'}"
            ]
          },
          "metadata": {},
          "execution_count": 136
        }
      ]
    },
    {
      "cell_type": "code",
      "source": [
        "type(colors)"
      ],
      "metadata": {
        "colab": {
          "base_uri": "https://localhost:8080/"
        },
        "id": "LQHoqztWMMhI",
        "outputId": "3537cf36-c409-43ac-be55-bb7112626a7c"
      },
      "execution_count": 132,
      "outputs": [
        {
          "output_type": "execute_result",
          "data": {
            "text/plain": [
              "set"
            ]
          },
          "metadata": {},
          "execution_count": 132
        }
      ]
    },
    {
      "cell_type": "code",
      "source": [
        "colors.pop()\n",
        "colors"
      ],
      "metadata": {
        "colab": {
          "base_uri": "https://localhost:8080/"
        },
        "id": "9ritKi9AMQWv",
        "outputId": "a922b356-2e36-4190-b164-b17f8c3a6cef"
      },
      "execution_count": 133,
      "outputs": [
        {
          "output_type": "execute_result",
          "data": {
            "text/plain": [
              "{'blue', 'green', 'yellow'}"
            ]
          },
          "metadata": {},
          "execution_count": 133
        }
      ]
    },
    {
      "cell_type": "code",
      "source": [
        "colors.add('red')\n",
        "colors.add('red')\n",
        "colors"
      ],
      "metadata": {
        "colab": {
          "base_uri": "https://localhost:8080/"
        },
        "id": "6iaDy-3wMTe3",
        "outputId": "3fef4995-e0a7-42aa-8bb8-e8af04642b9a"
      },
      "execution_count": 135,
      "outputs": [
        {
          "output_type": "execute_result",
          "data": {
            "text/plain": [
              "{'blue', 'green', 'red', 'yellow'}"
            ]
          },
          "metadata": {},
          "execution_count": 135
        }
      ]
    },
    {
      "cell_type": "markdown",
      "source": [
        "\n",
        "**Métodos**\n",
        "\n",
        "<table>\n",
        "\n",
        "  <tr>\n",
        "    <td>c.add(x)</td>\n",
        "    <td>c.remove(x)</td>\n",
        "    <td>c.union(b)/td>\n",
        "    <td>c.intersection(b)</td>\n",
        "    <td>c.difference(b)</td>\n",
        "    <td>c.symetric_difference(b)</td>\n",
        "    <td>c.issubset(b)</td>\n",
        "    <td>c.issuperset(b)</td>\n",
        "    <td>c.isdisjoin(b)</td>\n",
        "  </tr>\n",
        "\n",
        "</table>"
      ],
      "metadata": {
        "id": "DWOz36tMSKwh"
      }
    },
    {
      "cell_type": "code",
      "source": [
        "a = {1,2,3,4,5}\n",
        "b = {3,4,5,6,7,8}"
      ],
      "metadata": {
        "id": "nO8-OjG3RlOd"
      },
      "execution_count": 186,
      "outputs": []
    },
    {
      "cell_type": "code",
      "source": [
        "# Union\n",
        "a | b"
      ],
      "metadata": {
        "colab": {
          "base_uri": "https://localhost:8080/"
        },
        "id": "tE5BrZ_IRs4-",
        "outputId": "53a7eda1-8509-43cd-f393-392ef3836893"
      },
      "execution_count": 188,
      "outputs": [
        {
          "output_type": "execute_result",
          "data": {
            "text/plain": [
              "{1, 2, 3, 4, 5, 6, 7, 8}"
            ]
          },
          "metadata": {},
          "execution_count": 188
        }
      ]
    },
    {
      "cell_type": "code",
      "source": [
        "# Inserseccion\n",
        "a & b"
      ],
      "metadata": {
        "colab": {
          "base_uri": "https://localhost:8080/"
        },
        "id": "p8IY_NCrRuvU",
        "outputId": "4d624f78-4a89-481b-8ef0-28b2911fb22b"
      },
      "execution_count": 189,
      "outputs": [
        {
          "output_type": "execute_result",
          "data": {
            "text/plain": [
              "{3, 4, 5}"
            ]
          },
          "metadata": {},
          "execution_count": 189
        }
      ]
    },
    {
      "cell_type": "code",
      "source": [
        "# Diferencia\n",
        "a -b"
      ],
      "metadata": {
        "colab": {
          "base_uri": "https://localhost:8080/"
        },
        "id": "LvVh8TnDS87b",
        "outputId": "778bbc09-f337-439b-d02c-eb239f950049"
      },
      "execution_count": 191,
      "outputs": [
        {
          "output_type": "execute_result",
          "data": {
            "text/plain": [
              "{1, 2}"
            ]
          },
          "metadata": {},
          "execution_count": 191
        }
      ]
    },
    {
      "cell_type": "markdown",
      "source": [
        "### Tuplas"
      ],
      "metadata": {
        "id": "c_Q7Dq5QAl79"
      }
    },
    {
      "cell_type": "code",
      "source": [
        "tup = tuple(['foo',[1,2,3],True,'foo','foo','foo'])"
      ],
      "metadata": {
        "id": "HVuqmpcHDxS2"
      },
      "execution_count": 147,
      "outputs": []
    },
    {
      "cell_type": "code",
      "source": [
        "type(tup)"
      ],
      "metadata": {
        "colab": {
          "base_uri": "https://localhost:8080/"
        },
        "id": "PerhsYjFD3tJ",
        "outputId": "71c1b470-2d2c-4c9a-ce3a-24c28a3008b3"
      },
      "execution_count": 148,
      "outputs": [
        {
          "output_type": "execute_result",
          "data": {
            "text/plain": [
              "tuple"
            ]
          },
          "metadata": {},
          "execution_count": 148
        }
      ]
    },
    {
      "cell_type": "code",
      "source": [
        "tup.index(True)"
      ],
      "metadata": {
        "colab": {
          "base_uri": "https://localhost:8080/"
        },
        "id": "1HOq0aOtD5N_",
        "outputId": "7e186e32-b22f-432e-a8fa-3110cb0fc906"
      },
      "execution_count": 149,
      "outputs": [
        {
          "output_type": "execute_result",
          "data": {
            "text/plain": [
              "2"
            ]
          },
          "metadata": {},
          "execution_count": 149
        }
      ]
    },
    {
      "cell_type": "code",
      "source": [
        "tup.count('foo')"
      ],
      "metadata": {
        "colab": {
          "base_uri": "https://localhost:8080/"
        },
        "id": "tGba0lnAEIki",
        "outputId": "f8dffba0-6da1-4357-b19a-a16a21e50463"
      },
      "execution_count": 150,
      "outputs": [
        {
          "output_type": "execute_result",
          "data": {
            "text/plain": [
              "4"
            ]
          },
          "metadata": {},
          "execution_count": 150
        }
      ]
    },
    {
      "cell_type": "code",
      "source": [
        "tup[0] = 'no se puede modificar'"
      ],
      "metadata": {
        "colab": {
          "base_uri": "https://localhost:8080/",
          "height": 166
        },
        "id": "Cw8JAOZONWcu",
        "outputId": "9278b8d8-e6af-419d-8856-71050a4f25d0"
      },
      "execution_count": 151,
      "outputs": [
        {
          "output_type": "error",
          "ename": "TypeError",
          "evalue": "ignored",
          "traceback": [
            "\u001b[0;31m---------------------------------------------------------------------------\u001b[0m",
            "\u001b[0;31mTypeError\u001b[0m                                 Traceback (most recent call last)",
            "\u001b[0;32m<ipython-input-151-0f778faa17b2>\u001b[0m in \u001b[0;36m<module>\u001b[0;34m\u001b[0m\n\u001b[0;32m----> 1\u001b[0;31m \u001b[0mtup\u001b[0m\u001b[0;34m[\u001b[0m\u001b[0;36m0\u001b[0m\u001b[0;34m]\u001b[0m \u001b[0;34m=\u001b[0m \u001b[0;34m'no se puede modificar'\u001b[0m\u001b[0;34m\u001b[0m\u001b[0;34m\u001b[0m\u001b[0m\n\u001b[0m",
            "\u001b[0;31mTypeError\u001b[0m: 'tuple' object does not support item assignment"
          ]
        }
      ]
    },
    {
      "cell_type": "markdown",
      "source": [
        "### Diccionarios"
      ],
      "metadata": {
        "id": "9VabpIoGAhU-"
      }
    },
    {
      "cell_type": "code",
      "source": [
        "persona = dict()\n",
        "#persona = {} # tambien"
      ],
      "metadata": {
        "id": "zbkCG4JZAk6h"
      },
      "execution_count": 178,
      "outputs": []
    },
    {
      "cell_type": "code",
      "source": [
        "type(persona)"
      ],
      "metadata": {
        "colab": {
          "base_uri": "https://localhost:8080/"
        },
        "id": "8vRRbwgpNtke",
        "outputId": "3bbd99d7-8ede-4799-a576-44ea4172ef58"
      },
      "execution_count": 179,
      "outputs": [
        {
          "output_type": "execute_result",
          "data": {
            "text/plain": [
              "dict"
            ]
          },
          "metadata": {},
          "execution_count": 179
        }
      ]
    },
    {
      "cell_type": "code",
      "source": [
        "persona['nombre'] = 'Julia'\n",
        "persona['edad'] = '18'\n",
        "persona['cursos'] = ['Go','Python','Java', 'Js','SQL']\n",
        "persona"
      ],
      "metadata": {
        "colab": {
          "base_uri": "https://localhost:8080/"
        },
        "id": "s7R8iC1ZNv42",
        "outputId": "70d5c38b-8c6b-47b7-c35f-9f1c46defa94"
      },
      "execution_count": 180,
      "outputs": [
        {
          "output_type": "execute_result",
          "data": {
            "text/plain": [
              "{'nombre': 'Julia',\n",
              " 'edad': '18',\n",
              " 'cursos': ['Go', 'Python', 'Java', 'Js', 'SQL']}"
            ]
          },
          "metadata": {},
          "execution_count": 180
        }
      ]
    },
    {
      "cell_type": "code",
      "source": [
        "for key in persona:\n",
        "  print(key, \":\", persona[key])"
      ],
      "metadata": {
        "colab": {
          "base_uri": "https://localhost:8080/"
        },
        "id": "CqK58XKYOPN7",
        "outputId": "8614086a-6ee2-4193-b845-07018b2d0007"
      },
      "execution_count": 181,
      "outputs": [
        {
          "output_type": "stream",
          "name": "stdout",
          "text": [
            "nombre : Julia\n",
            "edad : 18\n",
            "cursos : ['Go', 'Python', 'Java', 'Js', 'SQL']\n"
          ]
        }
      ]
    },
    {
      "cell_type": "code",
      "source": [
        "persona.keys()"
      ],
      "metadata": {
        "colab": {
          "base_uri": "https://localhost:8080/"
        },
        "id": "LZhybjygQ5v5",
        "outputId": "e4ff2cee-1f3c-4fc0-c43d-e8747a47a8f9"
      },
      "execution_count": 182,
      "outputs": [
        {
          "output_type": "execute_result",
          "data": {
            "text/plain": [
              "dict_keys(['nombre', 'edad', 'cursos'])"
            ]
          },
          "metadata": {},
          "execution_count": 182
        }
      ]
    },
    {
      "cell_type": "code",
      "source": [
        "persona.values()"
      ],
      "metadata": {
        "colab": {
          "base_uri": "https://localhost:8080/"
        },
        "id": "Bn5pLY3GQ9n0",
        "outputId": "b438941f-c1cd-4f2f-93b6-355d763ff8ea"
      },
      "execution_count": 183,
      "outputs": [
        {
          "output_type": "execute_result",
          "data": {
            "text/plain": [
              "dict_values(['Julia', '18', ['Go', 'Python', 'Java', 'Js', 'SQL']])"
            ]
          },
          "metadata": {},
          "execution_count": 183
        }
      ]
    },
    {
      "cell_type": "code",
      "source": [
        "lista_names = ['mary','paul','anne','charly','david']\n",
        "lista_edad = ['18','19','20','21','22']\n",
        "contactos = dict(zip(lista_names,lista_edad))\n",
        "contactos"
      ],
      "metadata": {
        "colab": {
          "base_uri": "https://localhost:8080/"
        },
        "id": "sxhGberaRDl9",
        "outputId": "5630a086-666a-48df-bc25-891a3cac16e4"
      },
      "execution_count": 185,
      "outputs": [
        {
          "output_type": "execute_result",
          "data": {
            "text/plain": [
              "{'mary': '18', 'paul': '19', 'anne': '20', 'charly': '21', 'david': '22'}"
            ]
          },
          "metadata": {},
          "execution_count": 185
        }
      ]
    },
    {
      "cell_type": "markdown",
      "source": [
        "## Clase\n",
        "Permite encapsular de forma conjunta atributos (datos) y métodos (acciones). Cuando una clase se instancia da lugar a un objeto."
      ],
      "metadata": {
        "id": "R0lrjhnyOg1A"
      }
    },
    {
      "cell_type": "code",
      "source": [
        "class Rectangulo:\n",
        "\n",
        "  def __init__(self,x,y):\n",
        "    self.x = x\n",
        "    self.y = y\n",
        "  def area(self):\n",
        "    return self.x * self.y\n",
        "  def perimetro(self):\n",
        "    return 2* self.x +2*self.y\n",
        "  def description(self,text):\n",
        "    self.descripcion = text\n",
        "  def nombreAutor(self,text):\n",
        "    self.autor = text\n",
        "  def cambiarDimensiones(self,scale):\n",
        "    self.x = self.x * scale\n",
        "    self.y = self.y * scale\n",
        "  "
      ],
      "metadata": {
        "id": "RXeuXBDYOt8-"
      },
      "execution_count": 171,
      "outputs": []
    },
    {
      "cell_type": "code",
      "source": [
        "rectangulo1 = Rectangulo(90,35)"
      ],
      "metadata": {
        "id": "Q64QBmH4P2XX"
      },
      "execution_count": 161,
      "outputs": []
    },
    {
      "cell_type": "code",
      "source": [
        "Rectangulo.a"
      ],
      "metadata": {
        "id": "z3hr4CsiQfst"
      },
      "execution_count": null,
      "outputs": []
    },
    {
      "cell_type": "code",
      "source": [
        "rectangulo1.description(\"Rectangulo de juguete\")\n",
        "print(rectangulo1.descripcion)\n",
        "print(rectangulo1.area())"
      ],
      "metadata": {
        "colab": {
          "base_uri": "https://localhost:8080/"
        },
        "id": "VG_o9LZsP8Lk",
        "outputId": "8c345ce1-fb42-47e3-eb76-e2d07d9c9026"
      },
      "execution_count": 172,
      "outputs": [
        {
          "output_type": "stream",
          "name": "stdout",
          "text": [
            "Rectangulo de juguete\n",
            "3150\n"
          ]
        }
      ]
    },
    {
      "cell_type": "markdown",
      "source": [
        "# Resources\n",
        "\n",
        "* https://www.python.org/\n",
        "* \n",
        "https://docs.python.org/3/contents.html\n",
        "* https://strftime.org/ Python strftime cheatsheet \n",
        "* https://pyformat.info/\n",
        "* https://google.github.io/styleguide/pyguide.html\n"
      ],
      "metadata": {
        "id": "_YOWhDeG3AU1"
      }
    },
    {
      "cell_type": "markdown",
      "source": [
        "# Cheat Sheets"
      ],
      "metadata": {
        "id": "0Qwn_w0ZBqIQ"
      }
    },
    {
      "cell_type": "code",
      "source": [
        "from IPython.display import Image\n",
        "  \n",
        "Image(url=\"https://hakin9.org/wp-content/uploads/2020/02/beginnersPythonCheatSheet-01.jpg\", width=800, )"
      ],
      "metadata": {
        "colab": {
          "base_uri": "https://localhost:8080/",
          "height": 639
        },
        "id": "C3LtCJD7B9Gr",
        "outputId": "92e17020-8e05-4db6-91a6-341a2d021119"
      },
      "execution_count": 60,
      "outputs": [
        {
          "output_type": "execute_result",
          "data": {
            "text/html": [
              "<img src=\"https://hakin9.org/wp-content/uploads/2020/02/beginnersPythonCheatSheet-01.jpg\" width=\"800\"/>"
            ],
            "text/plain": [
              "<IPython.core.display.Image object>"
            ]
          },
          "metadata": {},
          "execution_count": 60
        }
      ]
    },
    {
      "cell_type": "code",
      "source": [
        " \n",
        "Image(url=\"https://hakin9.org/wp-content/uploads/2020/02/beginnersPythonCheatSheet-05.jpg\", width=800, )"
      ],
      "metadata": {
        "colab": {
          "base_uri": "https://localhost:8080/",
          "height": 639
        },
        "id": "bH-cZkOqCHWc",
        "outputId": "f62b9cd6-f28d-46dd-c2f5-e39e0d8a4d9d"
      },
      "execution_count": 61,
      "outputs": [
        {
          "output_type": "execute_result",
          "data": {
            "text/html": [
              "<img src=\"https://hakin9.org/wp-content/uploads/2020/02/beginnersPythonCheatSheet-05.jpg\" width=\"800\"/>"
            ],
            "text/plain": [
              "<IPython.core.display.Image object>"
            ]
          },
          "metadata": {},
          "execution_count": 61
        }
      ]
    },
    {
      "cell_type": "code",
      "source": [
        "\n",
        "Image(url=\"https://hakin9.org/wp-content/uploads/2020/02/beginnersPythonCheatSheet-03.jpg\", width=800, )"
      ],
      "metadata": {
        "colab": {
          "base_uri": "https://localhost:8080/",
          "height": 639
        },
        "id": "SbDRkZ4ZCLuw",
        "outputId": "1a4e7446-4a80-4d1b-9e32-c3b93d9d8d0d"
      },
      "execution_count": 62,
      "outputs": [
        {
          "output_type": "execute_result",
          "data": {
            "text/html": [
              "<img src=\"https://hakin9.org/wp-content/uploads/2020/02/beginnersPythonCheatSheet-03.jpg\" width=\"800\"/>"
            ],
            "text/plain": [
              "<IPython.core.display.Image object>"
            ]
          },
          "metadata": {},
          "execution_count": 62
        }
      ]
    },
    {
      "cell_type": "code",
      "source": [
        "\n",
        "Image(url=\"https://intellipaat.com/blog/wp-content/uploads/2022/10/Python-Cheat-Sheet-2022.jpg\", width=800, )"
      ],
      "metadata": {
        "colab": {
          "base_uri": "https://localhost:8080/",
          "height": 765
        },
        "id": "Um8vQy1pCYOs",
        "outputId": "409626c4-3760-4973-916b-479a268d2f58"
      },
      "execution_count": 63,
      "outputs": [
        {
          "output_type": "execute_result",
          "data": {
            "text/html": [
              "<img src=\"https://intellipaat.com/blog/wp-content/uploads/2022/10/Python-Cheat-Sheet-2022.jpg\" width=\"800\"/>"
            ],
            "text/plain": [
              "<IPython.core.display.Image object>"
            ]
          },
          "metadata": {},
          "execution_count": 63
        }
      ]
    }
  ],
  "metadata": {
    "kernelspec": {
      "display_name": "base",
      "language": "python",
      "name": "python3"
    },
    "language_info": {
      "codemirror_mode": {
        "name": "ipython",
        "version": 3
      },
      "file_extension": ".py",
      "mimetype": "text/x-python",
      "name": "python",
      "nbconvert_exporter": "python",
      "pygments_lexer": "ipython3",
      "version": "3.9.13"
    },
    "orig_nbformat": 4,
    "vscode": {
      "interpreter": {
        "hash": "f57b2c9e474136769257d1844c8ce6308026239493ba0b89230369f44f03f6fd"
      }
    },
    "colab": {
      "provenance": [],
      "toc_visible": true
    }
  },
  "nbformat": 4,
  "nbformat_minor": 0
}